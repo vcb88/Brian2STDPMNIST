{
 "cells": [
  {
   "cell_type": "markdown",
   "metadata": {},
   "source": [
    "# Basic Usage of STDP-based MNIST Classification\n",
    "\n",
    "This notebook demonstrates the basic functionality of the STDP-based MNIST classification system.\n",
    "\n",
    "## Table of Contents:\n",
    "1. Setup and Imports\n",
    "2. Loading and Visualizing MNIST Data\n",
    "3. Training a Small Network\n",
    "4. Testing and Visualization\n",
    "5. Weight Analysis"
   ]
  },
  {
   "cell_type": "markdown",
   "metadata": {},
   "source": [
    "## 1. Setup and Imports\n",
    "\n",
    "First, let's import all necessary libraries and set up our environment."
   ]
  },
  {
   "cell_type": "code",
   "execution_count": null,
   "metadata": {},
   "outputs": [],
   "source": [
    "import sys\n",
    "sys.path.append('..')\n",
    "\n",
    "import numpy as np\n",
    "import matplotlib.pyplot as plt\n",
    "from brian2 import *\n",
    "from functions.data import get_labeled_data, get_data_subset\n",
    "from functions.quick_analysis import quick_analyze\n",
    "\n",
    "# Configure Brian2\n",
    "prefs.codegen.target = 'cython'\n",
    "\n",
    "# Enable interactive plotting\n",
    "%matplotlib inline"
   ]
  },
  {
   "cell_type": "markdown",
   "metadata": {},
   "source": [
    "## 2. Loading and Visualizing MNIST Data\n",
    "\n",
    "Let's load a small subset of MNIST data and visualize some examples."
   ]
  },
  {
   "cell_type": "code",
   "execution_count": null,
   "metadata": {},
   "outputs": [],
   "source": [
    "# Load training data\n",
    "training = get_labeled_data('training', bTrain=True, MNIST_data_path='../mnist/')\n",
    "\n",
    "# Display some examples\n",
    "fig, axes = plt.subplots(2, 5, figsize=(15, 6))\n",
    "for i, ax in enumerate(axes.flat):\n",
    "    ax.imshow(training['x'][i].reshape(28, 28), cmap='gray')\n",
    "    ax.set_title(f'Label: {training[\"y\"][i]}')\n",
    "    ax.axis('off')\n",
    "plt.tight_layout()\n",
    "plt.show()"
   ]
  },
  {
   "cell_type": "markdown",
   "metadata": {},
   "source": [
    "## 3. Training a Small Network\n",
    "\n",
    "Now let's train a network on a small subset of data to demonstrate the process."
   ]
  },
  {
   "cell_type": "code",
   "execution_count": null,
   "metadata": {},
   "outputs": [],
   "source": [
    "# Import the main script as a module\n",
    "import importlib.util\n",
    "spec = importlib.util.spec_from_file_location(\"mnist_stdp\", \"../diehl_cook_spiking_mnist_brian2.py\")\n",
    "mnist_stdp = importlib.util.module_from_spec(spec)\n",
    "spec.loader.exec_module(mnist_stdp)\n",
    "\n",
    "# Configure for a quick training run\n",
    "mnist_stdp.args.train = True\n",
    "mnist_stdp.args.test = False\n",
    "mnist_stdp.args.train_size = 1000\n",
    "mnist_stdp.args.epochs = 1\n",
    "mnist_stdp.args.verbose = True\n",
    "\n",
    "# Start training\n",
    "mnist_stdp.main()"
   ]
  },
  {
   "cell_type": "markdown",
   "metadata": {},
   "source": [
    "## 4. Testing and Visualization\n",
    "\n",
    "Let's test our trained network on a small test set and visualize the results."
   ]
  },
  {
   "cell_type": "code",
   "execution_count": null,
   "metadata": {},
   "outputs": [],
   "source": [
    "# Configure for testing\n",
    "mnist_stdp.args.train = False\n",
    "mnist_stdp.args.test = True\n",
    "mnist_stdp.args.test_size = 100\n",
    "\n",
    "# Run tests\n",
    "results = mnist_stdp.main()\n",
    "\n",
    "# Analyze results\n",
    "quick_analyze(results)"
   ]
  },
  {
   "cell_type": "markdown",
   "metadata": {},
   "source": [
    "## 5. Weight Analysis\n",
    "\n",
    "Finally, let's analyze the learned weights to understand what patterns the network has learned."
   ]
  },
  {
   "cell_type": "code",
   "execution_count": null,
   "metadata": {},
   "outputs": [],
   "source": [
    "# Load and visualize weights\n",
    "weights = np.load('../weights/random/XeAe.npy', allow_pickle=True)\n",
    "w_matrix = np.zeros((784, 400))\n",
    "for i, j, w in weights:\n",
    "    w_matrix[int(i), int(j)] = w\n",
    "\n",
    "# Plot some weight patterns\n",
    "fig, axes = plt.subplots(2, 5, figsize=(15, 6))\n",
    "for i, ax in enumerate(axes.flat):\n",
    "    ax.imshow(w_matrix[:, i].reshape(28, 28), cmap='hot_r')\n",
    "    ax.axis('off')\n",
    "plt.suptitle('Learned Weight Patterns')\n",
    "plt.tight_layout()\n",
    "plt.show()"
   ]
  }
 ],
 "metadata": {
  "kernelspec": {
   "display_name": "Python 3",
   "language": "python",
   "name": "python3"
  },
  "language_info": {
   "codemirror_mode": {
    "name": "ipython",
    "version": 3
   },
   "file_extension": ".py",
   "mimetype": "text/x-python",
   "name": "python",
   "nbconvert_exporter": "python",
   "pygments_lexer": "ipython3",
   "version": "3.8.0"
  }
 },
 "nbformat": 4,
 "nbformat_minor": 4
}