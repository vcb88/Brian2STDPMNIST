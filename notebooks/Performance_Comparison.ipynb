{
 "cells": [
  {
   "cell_type": "markdown",
   "metadata": {},
   "source": [
    "# Performance Comparison of Different Simulation Modes\n",
    "\n",
    "This notebook compares the performance of different simulation modes in our STDP-based MNIST classification system.\n",
    "\n",
    "## Table of Contents:\n",
    "1. Setup and Configuration\n",
    "2. Performance Testing Functions\n",
    "3. Runtime Device with Cython\n",
    "4. Multi-threaded Runtime\n",
    "5. C++ Standalone with OpenMP\n",
    "6. Results Comparison"
   ]
  },
  {
   "cell_type": "markdown",
   "metadata": {},
   "source": [
    "## 1. Setup and Configuration\n",
    "\n",
    "First, let's import necessary libraries and define our test configurations."
   ]
  },
  {
   "cell_type": "code",
   "execution_count": null,
   "metadata": {},
   "outputs": [],
   "source": [
    "import sys\n",
    "sys.path.append('..')\n",
    "\n",
    "import numpy as np\n",
    "import matplotlib.pyplot as plt\n",
    "from brian2 import *\n",
    "import time\n",
    "from functions.data import get_labeled_data, get_data_subset\n",
    "import pandas as pd\n",
    "\n",
    "# Test configurations\n",
    "TEST_CONFIGS = [\n",
    "    {'name': 'Small Dataset', 'size': 1000, 'epochs': 1},\n",
    "    {'name': 'Medium Dataset', 'size': 5000, 'epochs': 1},\n",
    "    {'name': 'Full Epoch', 'size': 60000, 'epochs': 1}\n",
    "]\n",
    "\n",
    "# Enable interactive plotting\n",
    "%matplotlib inline"
   ]
  },
  {
   "cell_type": "markdown",
   "metadata": {},
   "source": [
    "## 2. Performance Testing Functions\n",
    "\n",
    "Let's define functions to measure performance of different configurations."
   ]
  },
  {
   "cell_type": "code",
   "execution_count": null,
   "metadata": {},
   "outputs": [],
   "source": [
    "def run_performance_test(config, device='runtime', num_threads=1):\n",
    "    \"\"\"Run a single performance test with given configuration.\"\"\"\n",
    "    # Import the main script as a module\n",
    "    import importlib.util\n",
    "    spec = importlib.util.spec_from_file_location(\"mnist_stdp\", \"../diehl_cook_spiking_mnist_brian2.py\")\n",
    "    mnist_stdp = importlib.util.module_from_spec(spec)\n",
    "    spec.loader.exec_module(mnist_stdp)\n",
    "    \n",
    "    # Configure\n",
    "    mnist_stdp.args.train = True\n",
    "    mnist_stdp.args.test = False\n",
    "    mnist_stdp.args.train_size = config['size']\n",
    "    mnist_stdp.args.epochs = config['epochs']\n",
    "    mnist_stdp.args.device = device\n",
    "    mnist_stdp.args.num_threads = num_threads\n",
    "    \n",
    "    # Measure time\n",
    "    start_time = time.time()\n",
    "    mnist_stdp.main()\n",
    "    end_time = time.time()\n",
    "    \n",
    "    return end_time - start_time"
   ]
  },
  {
   "cell_type": "markdown",
   "metadata": {},
   "source": [
    "## 3. Runtime Device with Cython\n",
    "\n",
    "Let's test the default runtime device with Cython optimization."
   ]
  },
  {
   "cell_type": "code",
   "execution_count": null,
   "metadata": {},
   "outputs": [],
   "source": [
    "runtime_results = []\n",
    "for config in TEST_CONFIGS:\n",
    "    time_taken = run_performance_test(config, device='runtime', num_threads=1)\n",
    "    runtime_results.append({\n",
    "        'config': config['name'],\n",
    "        'time': time_taken,\n",
    "        'mode': 'Runtime+Cython'\n",
    "    })"
   ]
  },
  {
   "cell_type": "markdown",
   "metadata": {},
   "source": [
    "## 4. Multi-threaded Runtime\n",
    "\n",
    "Now let's test with multiple threads."
   ]
  },
  {
   "cell_type": "code",
   "execution_count": null,
   "metadata": {},
   "outputs": [],
   "source": [
    "threaded_results = []\n",
    "for config in TEST_CONFIGS:\n",
    "    time_taken = run_performance_test(config, device='runtime', num_threads=8)\n",
    "    threaded_results.append({\n",
    "        'config': config['name'],\n",
    "        'time': time_taken,\n",
    "        'mode': 'Multi-threaded'\n",
    "    })"
   ]
  },
  {
   "cell_type": "markdown",
   "metadata": {},
   "source": [
    "## 5. C++ Standalone with OpenMP\n",
    "\n",
    "Finally, let's test the C++ standalone device with OpenMP."
   ]
  },
  {
   "cell_type": "code",
   "execution_count": null,
   "metadata": {},
   "outputs": [],
   "source": [
    "cpp_results = []\n",
    "for config in TEST_CONFIGS:\n",
    "    time_taken = run_performance_test(config, device='cpp_standalone', num_threads=8)\n",
    "    cpp_results.append({\n",
    "        'config': config['name'],\n",
    "        'time': time_taken,\n",
    "        'mode': 'C++Standalone+OpenMP'\n",
    "    })"
   ]
  },
  {
   "cell_type": "markdown",
   "metadata": {},
   "source": [
    "## 6. Results Comparison\n",
    "\n",
    "Let's compare and visualize the results."
   ]
  },
  {
   "cell_type": "code",
   "execution_count": null,
   "metadata": {},
   "outputs": [],
   "source": [
    "# Combine all results\n",
    "all_results = pd.DataFrame(runtime_results + threaded_results + cpp_results)\n",
    "\n",
    "# Create a bar plot\n",
    "plt.figure(figsize=(12, 6))\n",
    "configs = all_results['config'].unique()\n",
    "x = np.arange(len(configs))\n",
    "width = 0.25\n",
    "\n",
    "for i, mode in enumerate(all_results['mode'].unique()):\n",
    "    data = all_results[all_results['mode'] == mode]\n",
    "    plt.bar(x + i*width, data['time'], width, label=mode)\n",
    "\n",
    "plt.xlabel('Dataset Size')\n",
    "plt.ylabel('Time (seconds)')\n",
    "plt.title('Performance Comparison of Different Simulation Modes')\n",
    "plt.xticks(x + width, configs)\n",
    "plt.legend()\n",
    "plt.tight_layout()\n",
    "plt.show()\n",
    "\n",
    "# Print detailed results\n",
    "print(\"\\nDetailed Results:\")\n",
    "print(all_results.to_string(index=False))"
   ]
  }
 ],
 "metadata": {
  "kernelspec": {
   "display_name": "Python 3",
   "language": "python",
   "name": "python3"
  },
  "language_info": {
   "codemirror_mode": {
    "name": "ipython",
    "version": 3
   },
   "file_extension": ".py",
   "mimetype": "text/x-python",
   "name": "python",
   "nbconvert_exporter": "python",
   "pygments_lexer": "ipython3",
   "version": "3.8.0"
  }
 },
 "nbformat": 4,
 "nbformat_minor": 4
}