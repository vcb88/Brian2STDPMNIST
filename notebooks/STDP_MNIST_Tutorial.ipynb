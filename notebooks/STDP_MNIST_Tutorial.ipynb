{
 "cells": [
  {
   "cell_type": "markdown",
   "metadata": {},
   "source": [
    "# STDP-based MNIST Classification Tutorial\n",
    "\n",
    "This notebook demonstrates how to use the STDP-based spiking neural network for MNIST digit classification."
   ]
  },
  {
   "cell_type": "code",
   "execution_count": null,
   "metadata": {},
   "source": [
    "import sys\n",
    "sys.path.append('..')\n",
    "\n",
    "import numpy as np\n",
    "import matplotlib.pyplot as plt\n",
    "from brian2 import *\n",
    "from functions.data import get_labeled_data"
   ]
  },
  {
   "cell_type": "markdown",
   "metadata": {},
   "source": [
    "## 1. Load and Visualize MNIST Data"
   ]
  },
  {
   "cell_type": "code",
   "execution_count": null,
   "metadata": {},
   "source": [
    "# Load training data\n",
    "training = get_labeled_data('mnist/training')\n",
    "\n",
    "# Display some examples\n",
    "fig, axes = plt.subplots(2, 5, figsize=(12, 5))\n",
    "for i, ax in enumerate(axes.flat):\n",
    "    ax.imshow(training['x'][i], cmap='gray')\n",
    "    ax.axis('off')\n",
    "    ax.set_title(f'Label: {training[\"y\"][i][0]}')\n",
    "plt.tight_layout()\n",
    "plt.show()"
   ]
  },
  {
   "cell_type": "markdown",
   "metadata": {},
   "source": [
    "## 2. Network Parameters"
   ]
  },
  {
   "cell_type": "code",
   "execution_count": null,
   "metadata": {},
   "source": [
    "# Network size\n",
    "n_input = 784  # 28x28 input\n",
    "n_e = 400      # excitatory neurons\n",
    "n_i = n_e      # inhibitory neurons\n",
    "\n",
    "# Neuron parameters\n",
    "v_rest_e = -65. * mV\n",
    "v_rest_i = -60. * mV\n",
    "v_reset_e = -65. * mV\n",
    "v_reset_i = -45. * mV\n",
    "v_thresh_e = -52. * mV\n",
    "v_thresh_i = -40. * mV\n",
    "refrac_e = 5. * ms\n",
    "refrac_i = 2. * ms\n",
    "\n",
    "# STDP parameters\n",
    "tc_pre_ee = 20*ms\n",
    "tc_post_1_ee = 20*ms\n",
    "tc_post_2_ee = 40*ms\n",
    "nu_ee_pre = 0.0001      # learning rate\n",
    "nu_ee_post = 0.01       # learning rate\n",
    "wmax_ee = 1.0\n",
    "exp_ee_pre = 0.2\n",
    "exp_ee_post = exp_ee_pre"
   ]
  },
  {
   "cell_type": "markdown",
   "metadata": {},
   "source": [
    "## 3. Examine Learned Weights"
   ]
  },
  {
   "cell_type": "code",
   "execution_count": null,
   "metadata": {},
   "source": [
    "# Load pretrained weights\n",
    "weights = np.load('../weights/XeAe.npy')\n",
    "\n",
    "# Reshape and visualize some weight patterns\n",
    "n_plots = 25\n",
    "fig, axes = plt.subplots(5, 5, figsize=(12, 12))\n",
    "for i, ax in enumerate(axes.flat):\n",
    "    if i < n_plots:\n",
    "        w = weights[:, i].reshape(28, 28)\n",
    "        ax.imshow(w, cmap='viridis')\n",
    "        ax.axis('off')\n",
    "plt.tight_layout()\n",
    "plt.show()"
   ]
  },
  {
   "cell_type": "markdown",
   "metadata": {},
   "source": [
    "## 4. Test Network Performance"
   ]
  },
  {
   "cell_type": "code",
   "execution_count": null,
   "metadata": {},
   "source": [
    "# Load test data\n",
    "testing = get_labeled_data('mnist/testing', bTrain=False)\n",
    "\n",
    "# Run test examples and analyze results\n",
    "# Note: This will take some time to run\n",
    "# You can modify the number of test examples to run\n",
    "n_test = 100  # Number of test examples to run"
   ]
  }
 ],
 "metadata": {
  "kernelspec": {
   "display_name": "Python 3",
   "language": "python",
   "name": "python3"
  },
  "language_info": {
   "codemirror_mode": {
    "name": "ipython",
    "version": 3
   },
   "file_extension": ".py",
   "mimetype": "text/x-python",
   "name": "python",
   "nbconvert_exporter": "python",
   "pygments_lexer": "ipython3",
   "version": "3.8.0"
  }
 },
 "nbformat": 4,
 "nbformat_minor": 4
}